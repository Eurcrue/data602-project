{
 "cells": [
  {
   "cell_type": "code",
   "execution_count": 1,
   "metadata": {},
   "outputs": [],
   "source": [
    "import requests\n",
    "import pandas as pd\n",
    "import re"
   ]
  },
  {
   "cell_type": "code",
   "execution_count": 2,
   "metadata": {},
   "outputs": [],
   "source": [
    "dates = [['03-21', '03-22'], ['03-23', '03-24'],['03-28', '03-29'],['03-30','03-31'], ['04-06'], ['04-08']]\n",
    "nums = [64,32,16,8,2,1]\n",
    "\n",
    "all_rows = []\n",
    "for i in range(len(dates)):\n",
    "    for d in dates[i]:\n",
    "        url = f'https://www.vegasinsider.com/college-basketball/odds/las-vegas/?date=2024-{d}'\n",
    "        req = requests.get(url)\n",
    "        games = req.text.split('\\n')\n",
    "\n",
    "        for j in range(len(games)):\n",
    "            if 'data-moneyline' in games[j]: break\n",
    "        for game in games[j:]:\n",
    "            row = dict()\n",
    "            teams = [m.group() for m in re.finditer(r'(?<=college-basketball/teams/)[a-z\\-]+(?=/\")', game)]\n",
    "            row['team1'] = teams[0]\n",
    "            row['team2'] = teams[1]\n",
    "\n",
    "            odds = [m.group() for m in re.finditer(r'(?<=\"data-moneyline\"\\> )[\\+\\-0-9]+(?= <)', game)]\n",
    "            num_odds = len(odds)\n",
    "            row['team1odds'] = int(odds[num_odds//2-1])\n",
    "            row['team2odds'] = int(odds[num_odds-1])\n",
    "            all_rows.append(row)\n",
    "\n",
    "names_df = pd.read_csv('data/MTeamSpellings.csv', encoding='cp1252')\n",
    "odds_df = pd.DataFrame(all_rows)\n",
    "odds_df = odds_df.merge(names_df, how = 'inner', left_on = 'team1', right_on=['TeamNameSpelling'])\\\n",
    "                 .drop(columns = ['team1', 'TeamNameSpelling'])\\\n",
    "                 .rename(columns = {'TeamID': 'team1'})\\\n",
    "                 .merge(names_df, how = 'inner', left_on = 'team2', right_on=['TeamNameSpelling'])\\\n",
    "                 .drop(columns = ['team2', 'TeamNameSpelling'])\\\n",
    "                 .rename(columns = {'TeamID': 'team2'})\n",
    "\n",
    "def moneyline_to_return(moneyline):\n",
    "    if moneyline > 0: return (moneyline - 100)/100\n",
    "    return 100/-moneyline\n",
    "\n",
    "odds_df['team1ret'] = odds_df['team1odds'].apply(moneyline_to_return)\n",
    "odds_df['team2ret'] = odds_df['team2odds'].apply(moneyline_to_return)\n",
    "odds_df[['team1', 'team2', 'team1ret', 'team2ret']].to_csv('odds.csv', index = False)"
   ]
  },
  {
   "cell_type": "code",
   "execution_count": null,
   "metadata": {},
   "outputs": [],
   "source": []
  },
  {
   "cell_type": "code",
   "execution_count": null,
   "metadata": {},
   "outputs": [],
   "source": []
  },
  {
   "cell_type": "code",
   "execution_count": null,
   "metadata": {},
   "outputs": [],
   "source": []
  },
  {
   "cell_type": "code",
   "execution_count": null,
   "metadata": {},
   "outputs": [],
   "source": []
  },
  {
   "cell_type": "code",
   "execution_count": null,
   "metadata": {},
   "outputs": [],
   "source": []
  }
 ],
 "metadata": {
  "kernelspec": {
   "display_name": "sprvs",
   "language": "python",
   "name": "python3"
  },
  "language_info": {
   "codemirror_mode": {
    "name": "ipython",
    "version": 3
   },
   "file_extension": ".py",
   "mimetype": "text/x-python",
   "name": "python",
   "nbconvert_exporter": "python",
   "pygments_lexer": "ipython3",
   "version": "3.12.2"
  }
 },
 "nbformat": 4,
 "nbformat_minor": 2
}
